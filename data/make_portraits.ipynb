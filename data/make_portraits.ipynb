{
 "cells": [
  {
   "cell_type": "code",
   "execution_count": 1,
   "id": "e1056cfe-541c-4b4b-aa59-305227db53e0",
   "metadata": {},
   "outputs": [],
   "source": [
    "# These codes are adapted from Sagawa and Hino's work: https://github.com/ssgw320/gdacnf"
   ]
  },
  {
   "cell_type": "code",
   "execution_count": 1,
   "id": "3433d802-6f3d-41ac-97a8-3eb1e90ba925",
   "metadata": {},
   "outputs": [],
   "source": [
    "import numpy as np\n",
    "import pandas as pd\n",
    "from PIL import Image\n",
    "from pathlib import Path"
   ]
  },
  {
   "cell_type": "code",
   "execution_count": null,
   "id": "352b0a57",
   "metadata": {},
   "outputs": [],
   "source": []
  },
  {
   "cell_type": "code",
   "execution_count": 2,
   "id": "cfedf0b5-cc24-4ba3-9c6d-4e9689be2b02",
   "metadata": {},
   "outputs": [],
   "source": [
    "data_dir = \"./\" # your datast path"
   ]
  },
  {
   "cell_type": "code",
   "execution_count": 4,
   "id": "78d6af64-04b7-421a-95c9-46175a518092",
   "metadata": {},
   "outputs": [],
   "source": [
    "male_path = Path(data_dir + 'portraits/M')\n",
    "female_path = Path(data_dir + 'portraits/F')\n",
    "male_list = list(male_path.glob(\"*.png\"))\n",
    "female_list = list(female_path.glob(\"*.png\"))\n",
    "\n",
    "df = pd.concat([pd.DataFrame({'img_path': male_list}), pd.DataFrame({'img_path': female_list})]).reset_index(drop=True)\n",
    "df['year'] = df['img_path'].apply(lambda p: p.stem.split('_')[0]).astype(int)\n",
    "# df['name'] = df['img_path'].apply(lambda p: p.stem.split('\\\\')[-1])\n",
    "df['sex'] = df['img_path'].apply(lambda p: p.parent.stem.split('\\\\')[-1])\n",
    "df['sex'] = df['sex'].apply(lambda p: 0 if p=='M' else 1)\n",
    "df = df.sort_values(by='year').reset_index(drop=True)"
   ]
  },
  {
   "cell_type": "code",
   "execution_count": 5,
   "id": "e6b16ad5-dc09-4a98-bb43-1e64c0d552e8",
   "metadata": {},
   "outputs": [
    {
     "data": {
      "text/html": [
       "<div>\n",
       "<style scoped>\n",
       "    .dataframe tbody tr th:only-of-type {\n",
       "        vertical-align: middle;\n",
       "    }\n",
       "\n",
       "    .dataframe tbody tr th {\n",
       "        vertical-align: top;\n",
       "    }\n",
       "\n",
       "    .dataframe thead th {\n",
       "        text-align: right;\n",
       "    }\n",
       "</style>\n",
       "<table border=\"1\" class=\"dataframe\">\n",
       "  <thead>\n",
       "    <tr style=\"text-align: right;\">\n",
       "      <th></th>\n",
       "      <th>img_path</th>\n",
       "      <th>year</th>\n",
       "      <th>sex</th>\n",
       "    </tr>\n",
       "  </thead>\n",
       "  <tbody>\n",
       "    <tr>\n",
       "      <th>0</th>\n",
       "      <td>portraits/F/1905_Ohio_Cleveland_Central_0-1.png</td>\n",
       "      <td>1905</td>\n",
       "      <td>1</td>\n",
       "    </tr>\n",
       "    <tr>\n",
       "      <th>1</th>\n",
       "      <td>portraits/M/1905_Ohio_Cleveland_Central_0-3.png</td>\n",
       "      <td>1905</td>\n",
       "      <td>0</td>\n",
       "    </tr>\n",
       "    <tr>\n",
       "      <th>2</th>\n",
       "      <td>portraits/M/1905_Ohio_Cleveland_Central_1-2.png</td>\n",
       "      <td>1905</td>\n",
       "      <td>0</td>\n",
       "    </tr>\n",
       "    <tr>\n",
       "      <th>3</th>\n",
       "      <td>portraits/M/1905_Ohio_Cleveland_Central_0-6.png</td>\n",
       "      <td>1905</td>\n",
       "      <td>0</td>\n",
       "    </tr>\n",
       "    <tr>\n",
       "      <th>4</th>\n",
       "      <td>portraits/F/1905_Ohio_Cleveland_Central_1-3.png</td>\n",
       "      <td>1905</td>\n",
       "      <td>1</td>\n",
       "    </tr>\n",
       "  </tbody>\n",
       "</table>\n",
       "</div>"
      ],
      "text/plain": [
       "                                          img_path  year  sex\n",
       "0  portraits/F/1905_Ohio_Cleveland_Central_0-1.png  1905    1\n",
       "1  portraits/M/1905_Ohio_Cleveland_Central_0-3.png  1905    0\n",
       "2  portraits/M/1905_Ohio_Cleveland_Central_1-2.png  1905    0\n",
       "3  portraits/M/1905_Ohio_Cleveland_Central_0-6.png  1905    0\n",
       "4  portraits/F/1905_Ohio_Cleveland_Central_1-3.png  1905    1"
      ]
     },
     "execution_count": 5,
     "metadata": {},
     "output_type": "execute_result"
    }
   ],
   "source": [
    "df.head()"
   ]
  },
  {
   "cell_type": "code",
   "execution_count": 6,
   "id": "da806818-d108-4fa9-ab10-5b52a0358f2b",
   "metadata": {},
   "outputs": [],
   "source": [
    "paths = []\n",
    "for i in df[:18000]['img_path']:\n",
    "    paths.append(\"portraits/%s/%s\" % (i.parent.stem.split('portraits\\\\')[-1] , i.stem))"
   ]
  },
  {
   "cell_type": "code",
   "execution_count": 7,
   "id": "41343d8d-955c-4f56-923d-b752e90656ea",
   "metadata": {},
   "outputs": [],
   "source": [
    "def make_split_data(df: pd.DataFrame, target: str, num_inter_domain: int, num_domain_samples: dict):\n",
    "    split_index = np.split(np.arange(df.shape[0]), np.cumsum(list(num_domain_samples.values())))\n",
    "    x_all, y_all, year_all = [], [], []\n",
    "    for idx, key in zip(split_index, num_domain_samples.keys()):\n",
    "        x = df.drop(columns=[target]).loc[idx]  # 여기에는 img_path랑 year만 남음\n",
    "        y = df.loc[idx, target].values\n",
    "        years = x['year'].values\n",
    "        if key == 'inter':\n",
    "            x_splits = np.array_split(x, num_inter_domain)\n",
    "            y_splits = np.array_split(y, num_inter_domain)\n",
    "            year_splits = np.array_split(years, num_inter_domain)\n",
    "            x_all.extend(x_splits)\n",
    "            y_all.extend(y_splits)\n",
    "            year_all.extend(year_splits)\n",
    "        else:\n",
    "            x_all.append(x)\n",
    "            y_all.append(y)\n",
    "            year_all.append(years)\n",
    "    return x_all, y_all, year_all"
   ]
  },
  {
   "cell_type": "code",
   "execution_count": 8,
   "id": "57e27f48-4a7c-46eb-bd98-931208893a85",
   "metadata": {},
   "outputs": [],
   "source": [
    "def convert_portraits(p: Path):\n",
    "    # read, gray scale, resize\n",
    "    img = Image.open(p).convert('L').resize((32,32))\n",
    "    img = np.array(img, dtype=np.float32) / 255\n",
    "    return img"
   ]
  },
  {
   "cell_type": "code",
   "execution_count": 9,
   "id": "74d2036b-9b20-42c1-a781-b50feb8a10bc",
   "metadata": {},
   "outputs": [
    {
     "name": "stderr",
     "output_type": "stream",
     "text": [
      "/home/jslee/miniconda3/envs/toy/lib/python3.12/site-packages/numpy/core/fromnumeric.py:59: FutureWarning: 'DataFrame.swapaxes' is deprecated and will be removed in a future version. Please use 'DataFrame.transpose' instead.\n",
      "  return bound(*args, **kwds)\n"
     ]
    }
   ],
   "source": [
    "num_domain_samples = {'source': 2000, 'inter': 14000, 'target': 2000}\n",
    "# split to each domain\n",
    "\n",
    "x_all, y_all, year_all = make_split_data(df, 'sex', 7, num_domain_samples)\n",
    "\n",
    "for i, domain in enumerate(x_all):\n",
    "    images = [convert_portraits(Path(p)) for p in domain['img_path']]\n",
    "    x_all[i] = np.stack(images).reshape(-1, 1, 32, 32)"
   ]
  },
  {
   "cell_type": "code",
   "execution_count": 10,
   "id": "0981a2b6-081c-4dbe-9ecc-9682970dcfa7",
   "metadata": {},
   "outputs": [],
   "source": [
    "obj = {'data': x_all, 'label': y_all, 'year': year_all}\n",
    "pd.to_pickle(obj, 'portraits_original.pkl')"
   ]
  },
  {
   "cell_type": "code",
   "execution_count": 11,
   "id": "f15dfcab-9e65-41dc-b33a-d63cd0f1e1e9",
   "metadata": {},
   "outputs": [],
   "source": [
    "pd.to_pickle(paths, f'portraits_path.pkl')"
   ]
  },
  {
   "cell_type": "code",
   "execution_count": 12,
   "id": "74a11ffa-6a57-45f5-8232-e29f90637438",
   "metadata": {},
   "outputs": [
    {
     "name": "stderr",
     "output_type": "stream",
     "text": [
      "2025-06-08 18:28:58.390071: I tensorflow/core/util/port.cc:113] oneDNN custom operations are on. You may see slightly different numerical results due to floating-point round-off errors from different computation orders. To turn them off, set the environment variable `TF_ENABLE_ONEDNN_OPTS=0`.\n",
      "2025-06-08 18:28:58.403863: E external/local_xla/xla/stream_executor/cuda/cuda_fft.cc:479] Unable to register cuFFT factory: Attempting to register factory for plugin cuFFT when one has already been registered\n",
      "2025-06-08 18:28:58.424166: E external/local_xla/xla/stream_executor/cuda/cuda_dnn.cc:10575] Unable to register cuDNN factory: Attempting to register factory for plugin cuDNN when one has already been registered\n",
      "2025-06-08 18:28:58.424201: E external/local_xla/xla/stream_executor/cuda/cuda_blas.cc:1442] Unable to register cuBLAS factory: Attempting to register factory for plugin cuBLAS when one has already been registered\n",
      "2025-06-08 18:28:58.437321: I tensorflow/core/platform/cpu_feature_guard.cc:210] This TensorFlow binary is optimized to use available CPU instructions in performance-critical operations.\n",
      "To enable the following instructions: AVX2 AVX512F AVX512_VNNI AVX512_BF16 AVX512_FP16 AVX_VNNI AMX_TILE AMX_INT8 AMX_BF16 FMA, in other operations, rebuild TensorFlow with the appropriate compiler flags.\n",
      "2025-06-08 18:28:59.348452: W tensorflow/compiler/tf2tensorrt/utils/py_utils.cc:38] TF-TRT Warning: Could not find TensorRT\n"
     ]
    }
   ],
   "source": [
    "import umap"
   ]
  },
  {
   "cell_type": "code",
   "execution_count": 13,
   "id": "2e09568f-b1dc-4871-81b8-d613ee10a094",
   "metadata": {},
   "outputs": [],
   "source": [
    "def fit_umap(x_all, y_all, **umap_kwargs) -> list:\n",
    "    umap_settings = dict(n_components=2, n_neighbors=15, metric='cosine')\n",
    "    umap_settings.update(umap_kwargs)\n",
    "    X = np.vstack(x_all)\n",
    "    X = X.reshape(X.shape[0], -1)\n",
    "    # use source label as semi-superviesd UMAP\n",
    "    Y_semi_supervised = [np.full(shape=y.shape[0], fill_value=-1) for y in y_all]\n",
    "    Y_semi_supervised[0] = y_all[0].copy()\n",
    "    Y_semi_supervised = np.hstack(Y_semi_supervised)\n",
    "    # fit UMAP\n",
    "    encoder = umap.UMAP(random_state=1234, **umap_settings)\n",
    "    Z = encoder.fit_transform(X, Y_semi_supervised)\n",
    "    z_idx = np.cumsum([i.shape[0] for i in x_all])\n",
    "    z_all = np.vsplit(Z, z_idx)[:-1]\n",
    "    return z_all, encoder"
   ]
  },
  {
   "cell_type": "code",
   "execution_count": 14,
   "id": "5eb10ac8-d68a-4d96-8f46-d6bd9c50ed79",
   "metadata": {},
   "outputs": [
    {
     "name": "stderr",
     "output_type": "stream",
     "text": [
      "/home/jslee/miniconda3/envs/toy/lib/python3.12/site-packages/sklearn/utils/deprecation.py:151: FutureWarning: 'force_all_finite' was renamed to 'ensure_all_finite' in 1.6 and will be removed in 1.8.\n",
      "  warnings.warn(\n",
      "/home/jslee/miniconda3/envs/toy/lib/python3.12/site-packages/umap/umap_.py:1952: UserWarning: n_jobs value 1 overridden to 1 by setting random_state. Use no seed for parallelism.\n",
      "  warn(\n",
      "/home/jslee/miniconda3/envs/toy/lib/python3.12/site-packages/sklearn/utils/deprecation.py:151: FutureWarning: 'force_all_finite' was renamed to 'ensure_all_finite' in 1.6 and will be removed in 1.8.\n",
      "  warnings.warn(\n"
     ]
    }
   ],
   "source": [
    "z_all, encoder = fit_umap(np.array(x_all)[[0, len(x_all)-1]], np.array(y_all)[[0, len(y_all)-1]], n_components=8)"
   ]
  },
  {
   "cell_type": "code",
   "execution_count": 15,
   "id": "c370e4fa-0c22-47a7-900b-3cf89d1cca01",
   "metadata": {},
   "outputs": [],
   "source": [
    "obj = {'data': z_all, 'label': np.array(y_all)[[0, len(y_all)-1]]}\n",
    "pd.to_pickle(obj, f'portraits.pkl')"
   ]
  },
  {
   "cell_type": "code",
   "execution_count": 3,
   "id": "79586be2",
   "metadata": {},
   "outputs": [
    {
     "name": "stdout",
     "output_type": "stream",
     "text": [
      "--- Inspecting portraits_original.pkl ---\n",
      "Type: dict\n",
      "  Key: 'data' → Type: <class 'list'>\n",
      "    List length: 9\n",
      "    Example shapes: [(2000, 1, 32, 32), (2000, 1, 32, 32), (2000, 1, 32, 32)]\n",
      "  Key: 'label' → Type: <class 'list'>\n",
      "    List length: 9\n",
      "    Example shapes: [(2000,), (2000,), (2000,)]\n",
      "  Key: 'year' → Type: <class 'list'>\n",
      "    List length: 9\n",
      "    Example shapes: [(2000,), (2000,), (2000,)]\n",
      "    Domain 0: year range [1905 - 1935]\n",
      "    Domain 1: year range [1935 - 1942]\n",
      "    Domain 2: year range [1942 - 1945]\n",
      "    Domain 3: year range [1945 - 1950]\n",
      "    Domain 4: year range [1950 - 1955]\n",
      "    Domain 5: year range [1955 - 1960]\n",
      "    Domain 6: year range [1960 - 1965]\n",
      "    Domain 7: year range [1965 - 1969]\n",
      "    Domain 8: year range [1969 - 1973]\n",
      "\n",
      "--- Inspecting portraits_path.pkl ---\n",
      "Type: list\n",
      "  Length: 18000\n",
      "  Element type: <class 'str'>\n",
      "\n",
      "--- Inspecting portraits.pkl ---\n",
      "Type: dict\n",
      "  Key: 'data' → Type: <class 'list'>\n",
      "    List length: 2\n",
      "    Example shapes: [(2000, 8), (2000, 8)]\n",
      "  Key: 'label' → Type: <class 'numpy.ndarray'>\n",
      "    ndarray shape: (2, 2000)\n",
      "\n"
     ]
    }
   ],
   "source": [
    "import pickle\n",
    "import numpy as np\n",
    "from pathlib import Path\n",
    "\n",
    "# Locate pickle files in current directory\n",
    "pkl_files = list(Path('.').glob('portraits_*.pkl')) + list(Path('.').glob('portraits.pkl'))\n",
    "\n",
    "if not pkl_files:\n",
    "    print(\"No pickle files found in the current directory.\")\n",
    "    print(\"Please ensure 'portraits_original.pkl', 'portraits_path.pkl', and 'portraits.pkl' are present.\")\n",
    "else:\n",
    "    for pkl in pkl_files:\n",
    "        print(f\"--- Inspecting {pkl.name} ---\")\n",
    "        try:\n",
    "            obj = pickle.load(open(pkl, 'rb'))\n",
    "        except Exception as e:\n",
    "            print(f\"  Error loading {pkl.name}: {e}\")\n",
    "            continue\n",
    "\n",
    "        # If dict, print keys and summary\n",
    "        if isinstance(obj, dict):\n",
    "            print(\"Type: dict\")\n",
    "            for k, v in obj.items():\n",
    "                print(f\"  Key: '{k}' → Type: {type(v)}\")\n",
    "                if isinstance(v, list):\n",
    "                    print(f\"    List length: {len(v)}\")\n",
    "                    if len(v) > 0 and isinstance(v[0], np.ndarray):\n",
    "                        shapes = [arr.shape for arr in v[:3]]\n",
    "                        print(f\"    Example shapes: {shapes}\")\n",
    "\n",
    "                    # If key is year, print min/max per domain\n",
    "                    if k == \"year\":\n",
    "                        for i, year_list in enumerate(v):\n",
    "                            year_array = np.array(year_list)\n",
    "                            print(f\"    Domain {i}: year range [{year_array.min()} - {year_array.max()}]\")\n",
    "                elif isinstance(v, np.ndarray):\n",
    "                    print(f\"    ndarray shape: {v.shape}\")\n",
    "                else:\n",
    "                    print(\"    (Other type)\")\n",
    "\n",
    "        elif isinstance(obj, list):\n",
    "            print(\"Type: list\")\n",
    "            print(f\"  Length: {len(obj)}\")\n",
    "            if len(obj) > 0:\n",
    "                print(f\"  Element type: {type(obj[0])}\")\n",
    "                if isinstance(obj[0], np.ndarray):\n",
    "                    print(f\"  Example shape: {obj[0].shape}\")\n",
    "        else:\n",
    "            print(f\"Type: {type(obj)}, repr: {repr(obj)}\")\n",
    "        print()"
   ]
  },
  {
   "cell_type": "code",
   "execution_count": null,
   "id": "9ab051e7",
   "metadata": {},
   "outputs": [],
   "source": []
  }
 ],
 "metadata": {
  "kernelspec": {
   "display_name": "toy",
   "language": "python",
   "name": "python3"
  },
  "language_info": {
   "codemirror_mode": {
    "name": "ipython",
    "version": 3
   },
   "file_extension": ".py",
   "mimetype": "text/x-python",
   "name": "python",
   "nbconvert_exporter": "python",
   "pygments_lexer": "ipython3",
   "version": "3.12.9"
  }
 },
 "nbformat": 4,
 "nbformat_minor": 5
}
